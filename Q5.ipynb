{
  "cells": [
    {
      "cell_type": "code",
      "execution_count": null,
      "metadata": {
        "colab": {
          "base_uri": "https://localhost:8080/",
          "height": 73
        },
        "id": "ZUyXwtJVoD1v",
        "outputId": "bf74db57-094f-406f-a3f4-1e559c0c137b"
      },
      "outputs": [
        {
          "output_type": "display_data",
          "data": {
            "text/plain": [
              "<IPython.core.display.HTML object>"
            ],
            "text/html": [
              "\n",
              "     <input type=\"file\" id=\"files-9d93a70f-63d2-45ea-8021-b244c8e377c3\" name=\"files[]\" multiple disabled\n",
              "        style=\"border:none\" />\n",
              "     <output id=\"result-9d93a70f-63d2-45ea-8021-b244c8e377c3\">\n",
              "      Upload widget is only available when the cell has been executed in the\n",
              "      current browser session. Please rerun this cell to enable.\n",
              "      </output>\n",
              "      <script>// Copyright 2017 Google LLC\n",
              "//\n",
              "// Licensed under the Apache License, Version 2.0 (the \"License\");\n",
              "// you may not use this file except in compliance with the License.\n",
              "// You may obtain a copy of the License at\n",
              "//\n",
              "//      http://www.apache.org/licenses/LICENSE-2.0\n",
              "//\n",
              "// Unless required by applicable law or agreed to in writing, software\n",
              "// distributed under the License is distributed on an \"AS IS\" BASIS,\n",
              "// WITHOUT WARRANTIES OR CONDITIONS OF ANY KIND, either express or implied.\n",
              "// See the License for the specific language governing permissions and\n",
              "// limitations under the License.\n",
              "\n",
              "/**\n",
              " * @fileoverview Helpers for google.colab Python module.\n",
              " */\n",
              "(function(scope) {\n",
              "function span(text, styleAttributes = {}) {\n",
              "  const element = document.createElement('span');\n",
              "  element.textContent = text;\n",
              "  for (const key of Object.keys(styleAttributes)) {\n",
              "    element.style[key] = styleAttributes[key];\n",
              "  }\n",
              "  return element;\n",
              "}\n",
              "\n",
              "// Max number of bytes which will be uploaded at a time.\n",
              "const MAX_PAYLOAD_SIZE = 100 * 1024;\n",
              "\n",
              "function _uploadFiles(inputId, outputId) {\n",
              "  const steps = uploadFilesStep(inputId, outputId);\n",
              "  const outputElement = document.getElementById(outputId);\n",
              "  // Cache steps on the outputElement to make it available for the next call\n",
              "  // to uploadFilesContinue from Python.\n",
              "  outputElement.steps = steps;\n",
              "\n",
              "  return _uploadFilesContinue(outputId);\n",
              "}\n",
              "\n",
              "// This is roughly an async generator (not supported in the browser yet),\n",
              "// where there are multiple asynchronous steps and the Python side is going\n",
              "// to poll for completion of each step.\n",
              "// This uses a Promise to block the python side on completion of each step,\n",
              "// then passes the result of the previous step as the input to the next step.\n",
              "function _uploadFilesContinue(outputId) {\n",
              "  const outputElement = document.getElementById(outputId);\n",
              "  const steps = outputElement.steps;\n",
              "\n",
              "  const next = steps.next(outputElement.lastPromiseValue);\n",
              "  return Promise.resolve(next.value.promise).then((value) => {\n",
              "    // Cache the last promise value to make it available to the next\n",
              "    // step of the generator.\n",
              "    outputElement.lastPromiseValue = value;\n",
              "    return next.value.response;\n",
              "  });\n",
              "}\n",
              "\n",
              "/**\n",
              " * Generator function which is called between each async step of the upload\n",
              " * process.\n",
              " * @param {string} inputId Element ID of the input file picker element.\n",
              " * @param {string} outputId Element ID of the output display.\n",
              " * @return {!Iterable<!Object>} Iterable of next steps.\n",
              " */\n",
              "function* uploadFilesStep(inputId, outputId) {\n",
              "  const inputElement = document.getElementById(inputId);\n",
              "  inputElement.disabled = false;\n",
              "\n",
              "  const outputElement = document.getElementById(outputId);\n",
              "  outputElement.innerHTML = '';\n",
              "\n",
              "  const pickedPromise = new Promise((resolve) => {\n",
              "    inputElement.addEventListener('change', (e) => {\n",
              "      resolve(e.target.files);\n",
              "    });\n",
              "  });\n",
              "\n",
              "  const cancel = document.createElement('button');\n",
              "  inputElement.parentElement.appendChild(cancel);\n",
              "  cancel.textContent = 'Cancel upload';\n",
              "  const cancelPromise = new Promise((resolve) => {\n",
              "    cancel.onclick = () => {\n",
              "      resolve(null);\n",
              "    };\n",
              "  });\n",
              "\n",
              "  // Wait for the user to pick the files.\n",
              "  const files = yield {\n",
              "    promise: Promise.race([pickedPromise, cancelPromise]),\n",
              "    response: {\n",
              "      action: 'starting',\n",
              "    }\n",
              "  };\n",
              "\n",
              "  cancel.remove();\n",
              "\n",
              "  // Disable the input element since further picks are not allowed.\n",
              "  inputElement.disabled = true;\n",
              "\n",
              "  if (!files) {\n",
              "    return {\n",
              "      response: {\n",
              "        action: 'complete',\n",
              "      }\n",
              "    };\n",
              "  }\n",
              "\n",
              "  for (const file of files) {\n",
              "    const li = document.createElement('li');\n",
              "    li.append(span(file.name, {fontWeight: 'bold'}));\n",
              "    li.append(span(\n",
              "        `(${file.type || 'n/a'}) - ${file.size} bytes, ` +\n",
              "        `last modified: ${\n",
              "            file.lastModifiedDate ? file.lastModifiedDate.toLocaleDateString() :\n",
              "                                    'n/a'} - `));\n",
              "    const percent = span('0% done');\n",
              "    li.appendChild(percent);\n",
              "\n",
              "    outputElement.appendChild(li);\n",
              "\n",
              "    const fileDataPromise = new Promise((resolve) => {\n",
              "      const reader = new FileReader();\n",
              "      reader.onload = (e) => {\n",
              "        resolve(e.target.result);\n",
              "      };\n",
              "      reader.readAsArrayBuffer(file);\n",
              "    });\n",
              "    // Wait for the data to be ready.\n",
              "    let fileData = yield {\n",
              "      promise: fileDataPromise,\n",
              "      response: {\n",
              "        action: 'continue',\n",
              "      }\n",
              "    };\n",
              "\n",
              "    // Use a chunked sending to avoid message size limits. See b/62115660.\n",
              "    let position = 0;\n",
              "    do {\n",
              "      const length = Math.min(fileData.byteLength - position, MAX_PAYLOAD_SIZE);\n",
              "      const chunk = new Uint8Array(fileData, position, length);\n",
              "      position += length;\n",
              "\n",
              "      const base64 = btoa(String.fromCharCode.apply(null, chunk));\n",
              "      yield {\n",
              "        response: {\n",
              "          action: 'append',\n",
              "          file: file.name,\n",
              "          data: base64,\n",
              "        },\n",
              "      };\n",
              "\n",
              "      let percentDone = fileData.byteLength === 0 ?\n",
              "          100 :\n",
              "          Math.round((position / fileData.byteLength) * 100);\n",
              "      percent.textContent = `${percentDone}% done`;\n",
              "\n",
              "    } while (position < fileData.byteLength);\n",
              "  }\n",
              "\n",
              "  // All done.\n",
              "  yield {\n",
              "    response: {\n",
              "      action: 'complete',\n",
              "    }\n",
              "  };\n",
              "}\n",
              "\n",
              "scope.google = scope.google || {};\n",
              "scope.google.colab = scope.google.colab || {};\n",
              "scope.google.colab._files = {\n",
              "  _uploadFiles,\n",
              "  _uploadFilesContinue,\n",
              "};\n",
              "})(self);\n",
              "</script> "
            ]
          },
          "metadata": {}
        },
        {
          "output_type": "stream",
          "name": "stdout",
          "text": [
            "Saving smoking_driking_dataset_Ver01.csv to smoking_driking_dataset_Ver01.csv\n"
          ]
        }
      ],
      "source": [
        "from google.colab import files\n",
        "\n",
        "\n",
        "uploaded = files.upload()"
      ]
    },
    {
      "cell_type": "code",
      "execution_count": null,
      "metadata": {
        "colab": {
          "base_uri": "https://localhost:8080/"
        },
        "id": "gAOgPpvVuI63",
        "outputId": "599c104d-cd40-4753-dc3c-188c41734d49"
      },
      "outputs": [
        {
          "output_type": "stream",
          "name": "stdout",
          "text": [
            "    sex  age  height  weight  waistline  sight_left  sight_right  hear_left  \\\n",
            "0  Male   35     170      75       90.0         1.0          1.0          1   \n",
            "1  Male   30     180      80       89.0         0.9          1.2          1   \n",
            "2  Male   40     165      75       91.0         1.2          1.5          1   \n",
            "3  Male   50     175      80       91.0         1.5          1.2          1   \n",
            "4  Male   50     165      60       80.0         1.0          1.2          1   \n",
            "\n",
            "   hear_right  SBP  ...  LDL_chole  triglyceride  hemoglobin  urine_protein  \\\n",
            "0           1  120  ...        126            92        17.1              1   \n",
            "1           1  130  ...        148           121        15.8              1   \n",
            "2           1  120  ...         74           104        15.8              1   \n",
            "3           1  145  ...        104           106        17.6              1   \n",
            "4           1  138  ...        117           104        13.8              1   \n",
            "\n",
            "   serum_creatinine  SGOT_AST  SGOT_ALT  gamma_GTP  SMK_stat_type_cd  DRK_YN  \n",
            "0               1.0        21        35         40                 1       Y  \n",
            "1               0.9        20        36         27                 3       N  \n",
            "2               0.9        47        32         68                 1       N  \n",
            "3               1.1        29        34         18                 1       N  \n",
            "4               0.8        19        12         25                 1       N  \n",
            "\n",
            "[5 rows x 24 columns]\n"
          ]
        }
      ],
      "source": [
        "import pandas as pd\n",
        "\n",
        "import io\n",
        "\n",
        "data = pd.read_csv(io.BytesIO(uploaded['smoking_driking_dataset_Ver01.csv']))\n",
        "print(data.head())"
      ]
    },
    {
      "cell_type": "code",
      "execution_count": null,
      "metadata": {
        "id": "6L4Ae17Xv2eq"
      },
      "outputs": [],
      "source": [
        "import pandas as pd\n",
        "import numpy as np\n",
        "import matplotlib.pyplot as plt\n",
        "import seaborn as sns\n",
        "from sklearn.model_selection import train_test_split\n",
        "from sklearn.preprocessing import LabelEncoder, StandardScaler\n",
        "from sklearn.linear_model import LogisticRegression\n",
        "from sklearn.tree import DecisionTreeClassifier\n",
        "from sklearn.ensemble import RandomForestClassifier\n",
        "from sklearn.metrics import accuracy_score, classification_report, confusion_matrix"
      ]
    },
    {
      "cell_type": "code",
      "source": [
        "from sklearn.preprocessing import OrdinalEncoder\n",
        "ordinal_encoder = OrdinalEncoder()\n",
        "data[['sex', 'DRK_YN']] = ordinal_encoder.fit_transform(data[['sex', 'DRK_YN']])"
      ],
      "metadata": {
        "id": "aoHRIhPJ06-W"
      },
      "execution_count": null,
      "outputs": []
    },
    {
      "cell_type": "code",
      "source": [
        "X = data.drop(['SMK_stat_type_cd', 'DRK_YN'], axis=1)\n",
        "y_smoking = data['SMK_stat_type_cd']\n",
        "y_drinking = data['DRK_YN']"
      ],
      "metadata": {
        "id": "C12tarxN07zS"
      },
      "execution_count": null,
      "outputs": []
    },
    {
      "cell_type": "code",
      "source": [
        "X_train, X_test, y_smoking_train, y_smoking_test, y_drinking_train, y_drinking_test = train_test_split(\n",
        "    X, y_smoking, y_drinking, test_size=0.2, random_state=42)"
      ],
      "metadata": {
        "id": "QN0btGtv1CAD"
      },
      "execution_count": null,
      "outputs": []
    },
    {
      "cell_type": "code",
      "source": [
        "smoking_classifier = RandomForestClassifier(random_state=42)\n",
        "smoking_classifier.fit(X_train, y_smoking_train)\n",
        "smoking_predictions = smoking_classifier.predict(X_test)"
      ],
      "metadata": {
        "id": "mwH_2Pgh1CCV"
      },
      "execution_count": null,
      "outputs": []
    },
    {
      "cell_type": "code",
      "source": [
        "smoking_accuracy = accuracy_score(y_smoking_test, smoking_predictions)\n",
        "print(\"Accuracy for Smoking Status Prediction:\", smoking_accuracy)"
      ],
      "metadata": {
        "colab": {
          "base_uri": "https://localhost:8080/"
        },
        "id": "txNEvnwh1CEw",
        "outputId": "ed90f8c8-79ac-4817-d3c4-562dd2de855d"
      },
      "execution_count": null,
      "outputs": [
        {
          "output_type": "stream",
          "name": "stdout",
          "text": [
            "Accuracy for Smoking Status Prediction: 0.694204872144046\n"
          ]
        }
      ]
    },
    {
      "cell_type": "code",
      "source": [
        "drinking_classifier = RandomForestClassifier(random_state=42)\n",
        "drinking_classifier.fit(X_train, y_drinking_train)\n",
        "drinking_predictions = drinking_classifier.predict(X_test)"
      ],
      "metadata": {
        "id": "rlFcJjyY1CHV"
      },
      "execution_count": null,
      "outputs": []
    },
    {
      "cell_type": "code",
      "source": [
        "drinking_accuracy = accuracy_score(y_drinking_test, drinking_predictions)\n",
        "print(\"\\nAccuracy for Drinking Status Prediction:\", drinking_accuracy)"
      ],
      "metadata": {
        "colab": {
          "base_uri": "https://localhost:8080/"
        },
        "id": "IJBwjR9E1CJq",
        "outputId": "523ecc24-1dd8-450f-d02a-74d3915e7f33"
      },
      "execution_count": null,
      "outputs": [
        {
          "output_type": "stream",
          "name": "stdout",
          "text": [
            "\n",
            "Accuracy for Drinking Status Prediction: 0.7291420789832047\n"
          ]
        }
      ]
    },
    {
      "cell_type": "code",
      "source": [
        "scaler = StandardScaler()\n",
        "X_train_scaled = scaler.fit_transform(X_train)\n",
        "X_test_scaled = scaler.transform(X_test)"
      ],
      "metadata": {
        "id": "02SmYDjP1Pa-"
      },
      "execution_count": null,
      "outputs": []
    },
    {
      "cell_type": "code",
      "source": [
        "smoking_dt_classifier = DecisionTreeClassifier(random_state=42)\n",
        "smoking_dt_classifier.fit(X_train, y_smoking_train)\n",
        "smoking_dt_predictions = smoking_dt_classifier.predict(X_test)"
      ],
      "metadata": {
        "id": "kJ-ITD0j1Pdh"
      },
      "execution_count": null,
      "outputs": []
    },
    {
      "cell_type": "code",
      "source": [
        "smoking_dt_accuracy = accuracy_score(y_smoking_test, smoking_dt_predictions)\n",
        "print(\"Accuracy for Smoking Status Prediction (Decision Tree):\", smoking_dt_accuracy)"
      ],
      "metadata": {
        "colab": {
          "base_uri": "https://localhost:8080/"
        },
        "id": "FRCwWqy51Pf5",
        "outputId": "d8936856-55d4-4ba8-eb82-3135710ec758"
      },
      "execution_count": null,
      "outputs": [
        {
          "output_type": "stream",
          "name": "stdout",
          "text": [
            "Accuracy for Smoking Status Prediction (Decision Tree): 0.6189438644272961\n"
          ]
        }
      ]
    },
    {
      "cell_type": "code",
      "source": [
        "smoking_lr_classifier = LogisticRegression(random_state=42)\n",
        "smoking_lr_classifier.fit(X_train_scaled, y_smoking_train)\n",
        "smoking_lr_predictions = smoking_lr_classifier.predict(X_test_scaled)"
      ],
      "metadata": {
        "id": "UE70VmAi1PiR"
      },
      "execution_count": null,
      "outputs": []
    },
    {
      "cell_type": "code",
      "source": [
        "smoking_lr_accuracy = accuracy_score(y_smoking_test, smoking_lr_predictions)\n",
        "print(\"\\nAccuracy for Smoking Status Prediction (Logistic Regression):\", smoking_lr_accuracy)"
      ],
      "metadata": {
        "colab": {
          "base_uri": "https://localhost:8080/"
        },
        "id": "iokKyLXl1Pki",
        "outputId": "037af13a-101c-4eb5-f51f-74575c0a7f89"
      },
      "execution_count": null,
      "outputs": [
        {
          "output_type": "stream",
          "name": "stdout",
          "text": [
            "\n",
            "Accuracy for Smoking Status Prediction (Logistic Regression): 0.6782518787511979\n"
          ]
        }
      ]
    },
    {
      "cell_type": "code",
      "source": [
        "drinking_dt_classifier = DecisionTreeClassifier(random_state=42)\n",
        "drinking_dt_classifier.fit(X_train, y_drinking_train)\n",
        "drinking_dt_predictions = drinking_dt_classifier.predict(X_test)"
      ],
      "metadata": {
        "id": "3hTaN4T71Pm6"
      },
      "execution_count": null,
      "outputs": []
    },
    {
      "cell_type": "code",
      "source": [
        "drinking_dt_accuracy = accuracy_score(y_drinking_test, drinking_dt_predictions)\n",
        "print(\"\\nAccuracy for Drinking Status Prediction (Decision Tree):\", drinking_dt_accuracy)"
      ],
      "metadata": {
        "colab": {
          "base_uri": "https://localhost:8080/"
        },
        "id": "damxVh5P1Ppa",
        "outputId": "19ea15aa-2ae5-4216-ecb4-5739ea7bf474"
      },
      "execution_count": null,
      "outputs": [
        {
          "output_type": "stream",
          "name": "stdout",
          "text": [
            "\n",
            "Accuracy for Drinking Status Prediction (Decision Tree): 0.6388762798204468\n"
          ]
        }
      ]
    },
    {
      "cell_type": "code",
      "source": [
        "drinking_lr_classifier = LogisticRegression(random_state=42)\n",
        "drinking_lr_classifier.fit(X_train_scaled, y_drinking_train)\n",
        "drinking_lr_predictions = drinking_lr_classifier.predict(X_test_scaled)"
      ],
      "metadata": {
        "id": "5Gywo_lN1Prg"
      },
      "execution_count": null,
      "outputs": []
    },
    {
      "cell_type": "code",
      "source": [
        "drinking_lr_accuracy = accuracy_score(y_drinking_test, drinking_lr_predictions)\n",
        "print(\"\\nAccuracy for Drinking Status Prediction (Logistic Regression):\", drinking_lr_accuracy)"
      ],
      "metadata": {
        "colab": {
          "base_uri": "https://localhost:8080/"
        },
        "id": "HwIiijDq1nx5",
        "outputId": "dfb1b9c1-9a08-43e8-e436-2bf283c0a768"
      },
      "execution_count": null,
      "outputs": [
        {
          "output_type": "stream",
          "name": "stdout",
          "text": [
            "\n",
            "Accuracy for Drinking Status Prediction (Logistic Regression): 0.7215362888989761\n"
          ]
        }
      ]
    },
    {
      "cell_type": "code",
      "source": [
        "import matplotlib.pyplot as plt\n",
        "import seaborn as sns\n",
        "\n",
        "data['Behavior'] = data['SMK_stat_type_cd'].astype(str) + '-' + data['DRK_YN'].astype(str)\n",
        "\n",
        "plt.figure(figsize=(14, 10))\n",
        "\n",
        "plt.figure(figsize=(12, 5))\n",
        "plt.subplot(1, 2, 1)\n",
        "sns.countplot(x='SMK_stat_type_cd', data=data, hue='DRK_YN')\n",
        "plt.title('Count Plot of Smoking Status by Drinking Status')\n",
        "plt.xlabel('Smoking Status')\n",
        "plt.ylabel('Count')\n",
        "\n",
        "plt.subplot(1, 2, 2)\n",
        "sns.countplot(x='DRK_YN', data=data, hue='SMK_stat_type_cd')\n",
        "plt.title('Count Plot of Drinking Status by Smoking Status')\n",
        "plt.xlabel('Drinking Status')\n",
        "plt.ylabel('Count')\n",
        "\n",
        "plt.tight_layout()\n",
        "plt.show()\n"
      ],
      "metadata": {
        "colab": {
          "base_uri": "https://localhost:8080/",
          "height": 470
        },
        "id": "6P29_DHKtTwE",
        "outputId": "69d8a667-fdf6-4c6b-eaaf-1c0450246a5a"
      },
      "execution_count": null,
      "outputs": [
        {
          "output_type": "display_data",
          "data": {
            "text/plain": [
              "<Figure size 1400x1000 with 0 Axes>"
            ]
          },
          "metadata": {}
        },
        {
          "output_type": "display_data",
          "data": {
            "text/plain": [
              "<Figure size 1200x500 with 2 Axes>"
            ],
            "image/png": "[encoded data removed]"
          },
          "metadata": {}
        }
      ]
    }
  ],
  "metadata": {
    "colab": {
      "provenance": []
    },
    "kernelspec": {
      "display_name": "Python 3",
      "name": "python3"
    },
    "language_info": {
      "name": "python"
    }
  },
  "nbformat": 4,
  "nbformat_minor": 0
}